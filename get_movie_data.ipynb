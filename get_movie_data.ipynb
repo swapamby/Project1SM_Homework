{
 "cells": [
  {
   "cell_type": "code",
   "execution_count": 8,
   "metadata": {},
   "outputs": [],
   "source": [
    "# Import Dependencies\n",
    "import requests as req\n",
    "from movie_list import all_movies\n",
    "from config import api_key\n",
    "import json"
   ]
  },
  {
   "cell_type": "code",
   "execution_count": 9,
   "metadata": {},
   "outputs": [],
   "source": [
    "# Retrieve movie data from list of movies\n",
    "movie_data = {}\n",
    "\n",
    "for year in all_movies.keys():\n",
    "    movie_data = {}\n",
    "    for movie in all_movies[year]:\n",
    "        url = f\"http://www.omdbapi.com/?apikey={api_key}&t={movie}&y={year}&type=movie\"\n",
    "        data = req.get(url).json()\n",
    "        movie_data[movie] = data\n",
    "        all_movies[year] = movie_data"
   ]
  },
  {
   "cell_type": "code",
   "execution_count": 10,
   "metadata": {},
   "outputs": [],
   "source": [
    "# Save movie data as a .txt file in JSON format\\n\",\n",
    "with open('movie_data_raw.txt', 'w') as outfile:\n",
    "    json.dump(all_movies, outfile)"
   ]
  },
  {
   "cell_type": "code",
   "execution_count": null,
   "metadata": {},
   "outputs": [],
   "source": []
  }
 ],
 "metadata": {
  "kernelspec": {
   "display_name": "Python 3",
   "language": "python",
   "name": "python3"
  },
  "language_info": {
   "codemirror_mode": {
    "name": "ipython",
    "version": 3
   },
   "file_extension": ".py",
   "mimetype": "text/x-python",
   "name": "python",
   "nbconvert_exporter": "python",
   "pygments_lexer": "ipython3",
   "version": "3.7.6"
  }
 },
 "nbformat": 4,
 "nbformat_minor": 4
}
