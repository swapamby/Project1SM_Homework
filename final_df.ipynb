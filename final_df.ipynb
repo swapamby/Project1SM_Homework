{
 "cells": [
  {
   "cell_type": "code",
   "execution_count": 1,
   "id": "5cf76d3e",
   "metadata": {},
   "outputs": [],
   "source": [
    "import json\n",
    "import pandas as pd\n",
    "import numpy as np\n",
    "import matplotlib.pyplot as plt\n",
    "from scipy.stats import linregress\n",
    "import seaborn as sns\n"
   ]
  },
  {
   "cell_type": "code",
   "execution_count": 2,
   "id": "152d1b38",
   "metadata": {},
   "outputs": [],
   "source": [
    "with open('movie_data.txt') as json_file:\n",
    "    data = json.load(json_file)"
   ]
  },
  {
   "cell_type": "code",
   "execution_count": 3,
   "id": "b66543aa",
   "metadata": {
    "scrolled": true
   },
   "outputs": [
    {
     "data": {
      "text/plain": [
       "{'Title': 'Deep Impact',\n",
       " 'Year': '1998',\n",
       " 'Rated': 'PG-13',\n",
       " 'Released': '08 May 1998',\n",
       " 'Runtime': '120 min',\n",
       " 'Genre': 'Action, Drama, Sci-Fi',\n",
       " 'Director': 'Mimi Leder',\n",
       " 'Writer': 'Bruce Joel Rubin, Michael Tolkin',\n",
       " 'Actors': 'Robert Duvall, Téa Leoni, Elijah Wood',\n",
       " 'Plot': 'A comet is discovered to be on a collision course with Earth. As doomsday nears, the human race prepares for the worst.',\n",
       " 'Language': 'English, Russian',\n",
       " 'Country': 'United States',\n",
       " 'Awards': '5 wins & 14 nominations',\n",
       " 'Poster': 'https://m.media-amazon.com/images/M/MV5BYTUwMTY1YmMtN2U5NC00YjkzLTg0YWQtZmEwNTEzZjdkNzQ2XkEyXkFqcGdeQXVyMTQxNzMzNDI@._V1_SX300.jpg',\n",
       " 'Ratings': [{'Source': 'Internet Movie Database', 'Value': '6.2/10'},\n",
       "  {'Source': 'Rotten Tomatoes', 'Value': '45%'},\n",
       "  {'Source': 'Metacritic', 'Value': '40/100'}],\n",
       " 'Metascore': '40',\n",
       " 'imdbRating': '6.2',\n",
       " 'imdbVotes': '168,136',\n",
       " 'imdbID': 'tt0120647',\n",
       " 'Type': 'movie',\n",
       " 'DVD': '01 Aug 2013',\n",
       " 'BoxOffice': 140464664,\n",
       " 'Production': 'Paramount Pictures, Zanuck/Brown Productions, DreamWorks SKG',\n",
       " 'Website': 'N/A',\n",
       " 'Response': 'True'}"
      ]
     },
     "execution_count": 3,
     "metadata": {},
     "output_type": "execute_result"
    }
   ],
   "source": [
    "data['1998']['Deep Impact']"
   ]
  },
  {
   "cell_type": "code",
   "execution_count": 4,
   "id": "c7a0f40a",
   "metadata": {},
   "outputs": [
    {
     "data": {
      "text/html": [
       "<div>\n",
       "<style scoped>\n",
       "    .dataframe tbody tr th:only-of-type {\n",
       "        vertical-align: middle;\n",
       "    }\n",
       "\n",
       "    .dataframe tbody tr th {\n",
       "        vertical-align: top;\n",
       "    }\n",
       "\n",
       "    .dataframe thead th {\n",
       "        text-align: right;\n",
       "    }\n",
       "</style>\n",
       "<table border=\"1\" class=\"dataframe\">\n",
       "  <thead>\n",
       "    <tr style=\"text-align: right;\">\n",
       "      <th></th>\n",
       "      <th>Title</th>\n",
       "      <th>Box Office</th>\n",
       "      <th>Runtime</th>\n",
       "      <th>Metascore</th>\n",
       "      <th>IMDB Score</th>\n",
       "      <th>MPAA Rating</th>\n",
       "      <th>Month Released</th>\n",
       "      <th>Year Released</th>\n",
       "    </tr>\n",
       "  </thead>\n",
       "  <tbody>\n",
       "    <tr>\n",
       "      <th>0</th>\n",
       "      <td>Star Wars: Episode V - The Empire Strikes Back</td>\n",
       "      <td>292753960</td>\n",
       "      <td>124</td>\n",
       "      <td>82</td>\n",
       "      <td>8.7</td>\n",
       "      <td>PG</td>\n",
       "      <td>Jun</td>\n",
       "      <td>1980</td>\n",
       "    </tr>\n",
       "    <tr>\n",
       "      <th>1</th>\n",
       "      <td>Stir Crazy</td>\n",
       "      <td>101300000</td>\n",
       "      <td>111</td>\n",
       "      <td>56</td>\n",
       "      <td>6.8</td>\n",
       "      <td>R</td>\n",
       "      <td>Dec</td>\n",
       "      <td>1980</td>\n",
       "    </tr>\n",
       "    <tr>\n",
       "      <th>2</th>\n",
       "      <td>Any Which Way You Can</td>\n",
       "      <td>70687344</td>\n",
       "      <td>116</td>\n",
       "      <td>51</td>\n",
       "      <td>6.1</td>\n",
       "      <td>PG</td>\n",
       "      <td>Dec</td>\n",
       "      <td>1980</td>\n",
       "    </tr>\n",
       "    <tr>\n",
       "      <th>3</th>\n",
       "      <td>Private Benjamin</td>\n",
       "      <td>69847348</td>\n",
       "      <td>109</td>\n",
       "      <td>59</td>\n",
       "      <td>6.2</td>\n",
       "      <td>R</td>\n",
       "      <td>Oct</td>\n",
       "      <td>1980</td>\n",
       "    </tr>\n",
       "    <tr>\n",
       "      <th>4</th>\n",
       "      <td>Coal Miner's Daughter</td>\n",
       "      <td>67182787</td>\n",
       "      <td>124</td>\n",
       "      <td>87</td>\n",
       "      <td>7.5</td>\n",
       "      <td>PG</td>\n",
       "      <td>Mar</td>\n",
       "      <td>1980</td>\n",
       "    </tr>\n",
       "    <tr>\n",
       "      <th>...</th>\n",
       "      <td>...</td>\n",
       "      <td>...</td>\n",
       "      <td>...</td>\n",
       "      <td>...</td>\n",
       "      <td>...</td>\n",
       "      <td>...</td>\n",
       "      <td>...</td>\n",
       "      <td>...</td>\n",
       "    </tr>\n",
       "    <tr>\n",
       "      <th>1748</th>\n",
       "      <td>Let Him Go</td>\n",
       "      <td>9358025</td>\n",
       "      <td>113</td>\n",
       "      <td>63</td>\n",
       "      <td>6.7</td>\n",
       "      <td>R</td>\n",
       "      <td>Nov</td>\n",
       "      <td>2020</td>\n",
       "    </tr>\n",
       "    <tr>\n",
       "      <th>1749</th>\n",
       "      <td>Freaky</td>\n",
       "      <td>9030855</td>\n",
       "      <td>102</td>\n",
       "      <td>67</td>\n",
       "      <td>6.3</td>\n",
       "      <td>R</td>\n",
       "      <td>Nov</td>\n",
       "      <td>2020</td>\n",
       "    </tr>\n",
       "    <tr>\n",
       "      <th>1750</th>\n",
       "      <td>Downhill</td>\n",
       "      <td>8287061</td>\n",
       "      <td>86</td>\n",
       "      <td>49</td>\n",
       "      <td>4.9</td>\n",
       "      <td>R</td>\n",
       "      <td>Feb</td>\n",
       "      <td>2020</td>\n",
       "    </tr>\n",
       "    <tr>\n",
       "      <th>1751</th>\n",
       "      <td>The Hunt</td>\n",
       "      <td>5812500</td>\n",
       "      <td>90</td>\n",
       "      <td>50</td>\n",
       "      <td>6.5</td>\n",
       "      <td>R</td>\n",
       "      <td>Mar</td>\n",
       "      <td>2020</td>\n",
       "    </tr>\n",
       "    <tr>\n",
       "      <th>1752</th>\n",
       "      <td>The Rhythm Section</td>\n",
       "      <td>5437971</td>\n",
       "      <td>109</td>\n",
       "      <td>45</td>\n",
       "      <td>5.3</td>\n",
       "      <td>R</td>\n",
       "      <td>Jan</td>\n",
       "      <td>2020</td>\n",
       "    </tr>\n",
       "  </tbody>\n",
       "</table>\n",
       "<p>1753 rows × 8 columns</p>\n",
       "</div>"
      ],
      "text/plain": [
       "                                               Title  Box Office Runtime  \\\n",
       "0     Star Wars: Episode V - The Empire Strikes Back   292753960     124   \n",
       "1                                         Stir Crazy   101300000     111   \n",
       "2                              Any Which Way You Can    70687344     116   \n",
       "3                                   Private Benjamin    69847348     109   \n",
       "4                              Coal Miner's Daughter    67182787     124   \n",
       "...                                              ...         ...     ...   \n",
       "1748                                      Let Him Go     9358025     113   \n",
       "1749                                          Freaky     9030855     102   \n",
       "1750                                        Downhill     8287061      86   \n",
       "1751                                        The Hunt     5812500      90   \n",
       "1752                              The Rhythm Section     5437971     109   \n",
       "\n",
       "     Metascore IMDB Score MPAA Rating Month Released Year Released  \n",
       "0           82        8.7          PG            Jun          1980  \n",
       "1           56        6.8           R            Dec          1980  \n",
       "2           51        6.1          PG            Dec          1980  \n",
       "3           59        6.2           R            Oct          1980  \n",
       "4           87        7.5          PG            Mar          1980  \n",
       "...        ...        ...         ...            ...           ...  \n",
       "1748        63        6.7           R            Nov          2020  \n",
       "1749        67        6.3           R            Nov          2020  \n",
       "1750        49        4.9           R            Feb          2020  \n",
       "1751        50        6.5           R            Mar          2020  \n",
       "1752        45        5.3           R            Jan          2020  \n",
       "\n",
       "[1753 rows x 8 columns]"
      ]
     },
     "execution_count": 4,
     "metadata": {},
     "output_type": "execute_result"
    }
   ],
   "source": [
    "run_times = []\n",
    "boxes = []\n",
    "meta_score = []\n",
    "imdb_score = []\n",
    "mpaa_rating = []\n",
    "movie_title = []\n",
    "released = []\n",
    "years = []\n",
    "\n",
    "for year in list(data.keys()):\n",
    "    movies = list(data[year].keys())\n",
    "    for movie in movies:\n",
    "        try:\n",
    "            run = data[year][movie]['Runtime'][0:-4]\n",
    "            box = data[year][movie]['BoxOffice']\n",
    "            meta = data[year][movie]['Metascore']\n",
    "            imdb = data[year][movie]['imdbRating']\n",
    "            mpaa = data[year][movie]['Rated']\n",
    "            mov = data[year][movie]['Title']\n",
    "            rel = data[year][movie]['Released'][3:6]\n",
    "            ye = data[year][movie]['Year']\n",
    "            boxes.append(box)\n",
    "            run_times.append(run)\n",
    "            meta_score.append(meta)\n",
    "            imdb_score.append(imdb)\n",
    "            mpaa_rating.append(mpaa)\n",
    "            movie_title.append(mov)\n",
    "            released.append(rel)\n",
    "            years.append(ye)\n",
    "                \n",
    "        except Exception as e:\n",
    "            print(str(e)+\" Year: \"+year+\" Movie: \"+movie)\n",
    "        \n",
    "\n",
    "\n",
    "r_box = {'Title': movie_title,\n",
    "    'Box Office': boxes,\n",
    "        'Runtime': run_times, \n",
    "        'Metascore': meta_score, \n",
    "         'IMDB Score': imdb_score,\n",
    "        'MPAA Rating': mpaa_rating, \n",
    "         'Month Released': released,\n",
    "         'Year Released': years\n",
    "        }\n",
    "\n",
    "r_df = pd.DataFrame(r_box)\n",
    "r_df"
   ]
  },
  {
   "cell_type": "code",
   "execution_count": 5,
   "id": "b5a4f015",
   "metadata": {},
   "outputs": [
    {
     "data": {
      "text/html": [
       "<div>\n",
       "<style scoped>\n",
       "    .dataframe tbody tr th:only-of-type {\n",
       "        vertical-align: middle;\n",
       "    }\n",
       "\n",
       "    .dataframe tbody tr th {\n",
       "        vertical-align: top;\n",
       "    }\n",
       "\n",
       "    .dataframe thead th {\n",
       "        text-align: right;\n",
       "    }\n",
       "</style>\n",
       "<table border=\"1\" class=\"dataframe\">\n",
       "  <thead>\n",
       "    <tr style=\"text-align: right;\">\n",
       "      <th></th>\n",
       "      <th>Title</th>\n",
       "      <th>Box Office</th>\n",
       "      <th>Runtime</th>\n",
       "      <th>Metascore</th>\n",
       "      <th>IMDB Score</th>\n",
       "      <th>MPAA Rating</th>\n",
       "      <th>Month Released</th>\n",
       "      <th>Year Released</th>\n",
       "    </tr>\n",
       "  </thead>\n",
       "  <tbody>\n",
       "    <tr>\n",
       "      <th>0</th>\n",
       "      <td>Star Wars: Episode V - The Empire Strikes Back</td>\n",
       "      <td>292753960</td>\n",
       "      <td>124</td>\n",
       "      <td>82</td>\n",
       "      <td>8.7</td>\n",
       "      <td>PG</td>\n",
       "      <td>Jun</td>\n",
       "      <td>1980</td>\n",
       "    </tr>\n",
       "    <tr>\n",
       "      <th>1</th>\n",
       "      <td>Stir Crazy</td>\n",
       "      <td>101300000</td>\n",
       "      <td>111</td>\n",
       "      <td>56</td>\n",
       "      <td>6.8</td>\n",
       "      <td>R</td>\n",
       "      <td>Dec</td>\n",
       "      <td>1980</td>\n",
       "    </tr>\n",
       "    <tr>\n",
       "      <th>2</th>\n",
       "      <td>Any Which Way You Can</td>\n",
       "      <td>70687344</td>\n",
       "      <td>116</td>\n",
       "      <td>51</td>\n",
       "      <td>6.1</td>\n",
       "      <td>PG</td>\n",
       "      <td>Dec</td>\n",
       "      <td>1980</td>\n",
       "    </tr>\n",
       "    <tr>\n",
       "      <th>3</th>\n",
       "      <td>Private Benjamin</td>\n",
       "      <td>69847348</td>\n",
       "      <td>109</td>\n",
       "      <td>59</td>\n",
       "      <td>6.2</td>\n",
       "      <td>R</td>\n",
       "      <td>Oct</td>\n",
       "      <td>1980</td>\n",
       "    </tr>\n",
       "    <tr>\n",
       "      <th>4</th>\n",
       "      <td>Coal Miner's Daughter</td>\n",
       "      <td>67182787</td>\n",
       "      <td>124</td>\n",
       "      <td>87</td>\n",
       "      <td>7.5</td>\n",
       "      <td>PG</td>\n",
       "      <td>Mar</td>\n",
       "      <td>1980</td>\n",
       "    </tr>\n",
       "    <tr>\n",
       "      <th>...</th>\n",
       "      <td>...</td>\n",
       "      <td>...</td>\n",
       "      <td>...</td>\n",
       "      <td>...</td>\n",
       "      <td>...</td>\n",
       "      <td>...</td>\n",
       "      <td>...</td>\n",
       "      <td>...</td>\n",
       "    </tr>\n",
       "    <tr>\n",
       "      <th>1667</th>\n",
       "      <td>Let Him Go</td>\n",
       "      <td>9358025</td>\n",
       "      <td>113</td>\n",
       "      <td>63</td>\n",
       "      <td>6.7</td>\n",
       "      <td>R</td>\n",
       "      <td>Nov</td>\n",
       "      <td>2020</td>\n",
       "    </tr>\n",
       "    <tr>\n",
       "      <th>1668</th>\n",
       "      <td>Freaky</td>\n",
       "      <td>9030855</td>\n",
       "      <td>102</td>\n",
       "      <td>67</td>\n",
       "      <td>6.3</td>\n",
       "      <td>R</td>\n",
       "      <td>Nov</td>\n",
       "      <td>2020</td>\n",
       "    </tr>\n",
       "    <tr>\n",
       "      <th>1669</th>\n",
       "      <td>Downhill</td>\n",
       "      <td>8287061</td>\n",
       "      <td>86</td>\n",
       "      <td>49</td>\n",
       "      <td>4.9</td>\n",
       "      <td>R</td>\n",
       "      <td>Feb</td>\n",
       "      <td>2020</td>\n",
       "    </tr>\n",
       "    <tr>\n",
       "      <th>1670</th>\n",
       "      <td>The Hunt</td>\n",
       "      <td>5812500</td>\n",
       "      <td>90</td>\n",
       "      <td>50</td>\n",
       "      <td>6.5</td>\n",
       "      <td>R</td>\n",
       "      <td>Mar</td>\n",
       "      <td>2020</td>\n",
       "    </tr>\n",
       "    <tr>\n",
       "      <th>1671</th>\n",
       "      <td>The Rhythm Section</td>\n",
       "      <td>5437971</td>\n",
       "      <td>109</td>\n",
       "      <td>45</td>\n",
       "      <td>5.3</td>\n",
       "      <td>R</td>\n",
       "      <td>Jan</td>\n",
       "      <td>2020</td>\n",
       "    </tr>\n",
       "  </tbody>\n",
       "</table>\n",
       "<p>1672 rows × 8 columns</p>\n",
       "</div>"
      ],
      "text/plain": [
       "                                               Title  Box Office Runtime  \\\n",
       "0     Star Wars: Episode V - The Empire Strikes Back   292753960     124   \n",
       "1                                         Stir Crazy   101300000     111   \n",
       "2                              Any Which Way You Can    70687344     116   \n",
       "3                                   Private Benjamin    69847348     109   \n",
       "4                              Coal Miner's Daughter    67182787     124   \n",
       "...                                              ...         ...     ...   \n",
       "1667                                      Let Him Go     9358025     113   \n",
       "1668                                          Freaky     9030855     102   \n",
       "1669                                        Downhill     8287061      86   \n",
       "1670                                        The Hunt     5812500      90   \n",
       "1671                              The Rhythm Section     5437971     109   \n",
       "\n",
       "     Metascore IMDB Score MPAA Rating Month Released Year Released  \n",
       "0           82        8.7          PG            Jun          1980  \n",
       "1           56        6.8           R            Dec          1980  \n",
       "2           51        6.1          PG            Dec          1980  \n",
       "3           59        6.2           R            Oct          1980  \n",
       "4           87        7.5          PG            Mar          1980  \n",
       "...        ...        ...         ...            ...           ...  \n",
       "1667        63        6.7           R            Nov          2020  \n",
       "1668        67        6.3           R            Nov          2020  \n",
       "1669        49        4.9           R            Feb          2020  \n",
       "1670        50        6.5           R            Mar          2020  \n",
       "1671        45        5.3           R            Jan          2020  \n",
       "\n",
       "[1672 rows x 8 columns]"
      ]
     },
     "execution_count": 5,
     "metadata": {},
     "output_type": "execute_result"
    }
   ],
   "source": [
    "meta_df = r_df.loc[r_df['Metascore']!='N/A']\n",
    "\n",
    "meta_df = meta_df.reset_index()\n",
    "meta_df = meta_df.drop(columns='index')\n",
    "meta_df"
   ]
  },
  {
   "cell_type": "code",
   "execution_count": 6,
   "id": "7764b597",
   "metadata": {
    "scrolled": true
   },
   "outputs": [
    {
     "data": {
      "text/plain": [
       "Title              object\n",
       "Box Office          int64\n",
       "Runtime             int64\n",
       "Metascore           int64\n",
       "IMDB Score        float64\n",
       "MPAA Rating        object\n",
       "Month Released     object\n",
       "Year Released      object\n",
       "dtype: object"
      ]
     },
     "execution_count": 6,
     "metadata": {},
     "output_type": "execute_result"
    }
   ],
   "source": [
    "meta_df['Runtime'] = meta_df['Runtime'].astype('int64')\n",
    "meta_df['IMDB Score'] = meta_df['IMDB Score'].astype(float)\n",
    "meta_df['Metascore'] = meta_df['Metascore'].astype('int64')\n",
    "meta_df.dtypes"
   ]
  },
  {
   "cell_type": "code",
   "execution_count": 7,
   "id": "70ed91a8",
   "metadata": {},
   "outputs": [
    {
     "data": {
      "text/html": [
       "<div>\n",
       "<style scoped>\n",
       "    .dataframe tbody tr th:only-of-type {\n",
       "        vertical-align: middle;\n",
       "    }\n",
       "\n",
       "    .dataframe tbody tr th {\n",
       "        vertical-align: top;\n",
       "    }\n",
       "\n",
       "    .dataframe thead th {\n",
       "        text-align: right;\n",
       "    }\n",
       "</style>\n",
       "<table border=\"1\" class=\"dataframe\">\n",
       "  <thead>\n",
       "    <tr style=\"text-align: right;\">\n",
       "      <th></th>\n",
       "      <th>Box Office</th>\n",
       "      <th>Runtime</th>\n",
       "      <th>Metascore</th>\n",
       "      <th>IMDB Score</th>\n",
       "    </tr>\n",
       "  </thead>\n",
       "  <tbody>\n",
       "    <tr>\n",
       "      <th>count</th>\n",
       "      <td>1.672000e+03</td>\n",
       "      <td>1672.000000</td>\n",
       "      <td>1672.000000</td>\n",
       "      <td>1672.000000</td>\n",
       "    </tr>\n",
       "    <tr>\n",
       "      <th>mean</th>\n",
       "      <td>1.101047e+08</td>\n",
       "      <td>111.339713</td>\n",
       "      <td>56.010167</td>\n",
       "      <td>6.574342</td>\n",
       "    </tr>\n",
       "    <tr>\n",
       "      <th>std</th>\n",
       "      <td>9.588199e+07</td>\n",
       "      <td>18.814332</td>\n",
       "      <td>15.568863</td>\n",
       "      <td>0.879608</td>\n",
       "    </tr>\n",
       "    <tr>\n",
       "      <th>min</th>\n",
       "      <td>6.579300e+04</td>\n",
       "      <td>69.000000</td>\n",
       "      <td>4.000000</td>\n",
       "      <td>1.600000</td>\n",
       "    </tr>\n",
       "    <tr>\n",
       "      <th>25%</th>\n",
       "      <td>5.297537e+07</td>\n",
       "      <td>97.000000</td>\n",
       "      <td>45.000000</td>\n",
       "      <td>6.100000</td>\n",
       "    </tr>\n",
       "    <tr>\n",
       "      <th>50%</th>\n",
       "      <td>8.027994e+07</td>\n",
       "      <td>108.000000</td>\n",
       "      <td>56.000000</td>\n",
       "      <td>6.600000</td>\n",
       "    </tr>\n",
       "    <tr>\n",
       "      <th>75%</th>\n",
       "      <td>1.337588e+08</td>\n",
       "      <td>122.000000</td>\n",
       "      <td>67.000000</td>\n",
       "      <td>7.200000</td>\n",
       "    </tr>\n",
       "    <tr>\n",
       "      <th>max</th>\n",
       "      <td>9.366622e+08</td>\n",
       "      <td>202.000000</td>\n",
       "      <td>96.000000</td>\n",
       "      <td>9.000000</td>\n",
       "    </tr>\n",
       "  </tbody>\n",
       "</table>\n",
       "</div>"
      ],
      "text/plain": [
       "         Box Office      Runtime    Metascore   IMDB Score\n",
       "count  1.672000e+03  1672.000000  1672.000000  1672.000000\n",
       "mean   1.101047e+08   111.339713    56.010167     6.574342\n",
       "std    9.588199e+07    18.814332    15.568863     0.879608\n",
       "min    6.579300e+04    69.000000     4.000000     1.600000\n",
       "25%    5.297537e+07    97.000000    45.000000     6.100000\n",
       "50%    8.027994e+07   108.000000    56.000000     6.600000\n",
       "75%    1.337588e+08   122.000000    67.000000     7.200000\n",
       "max    9.366622e+08   202.000000    96.000000     9.000000"
      ]
     },
     "execution_count": 7,
     "metadata": {},
     "output_type": "execute_result"
    }
   ],
   "source": [
    "meta_df.describe()"
   ]
  },
  {
   "cell_type": "code",
   "execution_count": 8,
   "id": "8320d07b",
   "metadata": {},
   "outputs": [
    {
     "data": {
      "text/plain": [
       "Text(0.5, 1.0, 'Correlation heatmap')"
      ]
     },
     "execution_count": 8,
     "metadata": {},
     "output_type": "execute_result"
    },
    {
     "data": {
      "image/png": "[encoded data removed]",
      "text/plain": [
       "<Figure size 432x288 with 2 Axes>"
      ]
     },
     "metadata": {
      "needs_background": "light"
     },
     "output_type": "display_data"
    }
   ],
   "source": [
    "sns.heatmap(meta_df.corr(),annot=True,cmap='coolwarm')\n",
    "plt.xticks(rotation=45)\n",
    "plt.yticks(rotation=45)\n",
    "plt.title('Correlation heatmap')\n"
   ]
  },
  {
   "cell_type": "code",
   "execution_count": null,
   "id": "1b1ef0cb",
   "metadata": {},
   "outputs": [],
   "source": []
  },
  {
   "cell_type": "code",
   "execution_count": 9,
   "id": "b5defc87",
   "metadata": {},
   "outputs": [
    {
     "data": {
      "text/html": [
       "<div>\n",
       "<style scoped>\n",
       "    .dataframe tbody tr th:only-of-type {\n",
       "        vertical-align: middle;\n",
       "    }\n",
       "\n",
       "    .dataframe tbody tr th {\n",
       "        vertical-align: top;\n",
       "    }\n",
       "\n",
       "    .dataframe thead th {\n",
       "        text-align: right;\n",
       "    }\n",
       "</style>\n",
       "<table border=\"1\" class=\"dataframe\">\n",
       "  <thead>\n",
       "    <tr style=\"text-align: right;\">\n",
       "      <th></th>\n",
       "      <th>Title</th>\n",
       "      <th>Box Office</th>\n",
       "      <th>Runtime</th>\n",
       "      <th>Metascore</th>\n",
       "      <th>IMDB Score</th>\n",
       "      <th>MPAA Rating</th>\n",
       "      <th>Month Released</th>\n",
       "      <th>Year Released</th>\n",
       "      <th>Runtime Group</th>\n",
       "    </tr>\n",
       "  </thead>\n",
       "  <tbody>\n",
       "    <tr>\n",
       "      <th>0</th>\n",
       "      <td>Star Wars: Episode V - The Empire Strikes Back</td>\n",
       "      <td>292753960</td>\n",
       "      <td>124</td>\n",
       "      <td>82</td>\n",
       "      <td>8.7</td>\n",
       "      <td>PG</td>\n",
       "      <td>Jun</td>\n",
       "      <td>1980</td>\n",
       "      <td>120-125</td>\n",
       "    </tr>\n",
       "    <tr>\n",
       "      <th>1</th>\n",
       "      <td>Stir Crazy</td>\n",
       "      <td>101300000</td>\n",
       "      <td>111</td>\n",
       "      <td>56</td>\n",
       "      <td>6.8</td>\n",
       "      <td>R</td>\n",
       "      <td>Dec</td>\n",
       "      <td>1980</td>\n",
       "      <td>110-115</td>\n",
       "    </tr>\n",
       "    <tr>\n",
       "      <th>2</th>\n",
       "      <td>Any Which Way You Can</td>\n",
       "      <td>70687344</td>\n",
       "      <td>116</td>\n",
       "      <td>51</td>\n",
       "      <td>6.1</td>\n",
       "      <td>PG</td>\n",
       "      <td>Dec</td>\n",
       "      <td>1980</td>\n",
       "      <td>115-120</td>\n",
       "    </tr>\n",
       "    <tr>\n",
       "      <th>3</th>\n",
       "      <td>Private Benjamin</td>\n",
       "      <td>69847348</td>\n",
       "      <td>109</td>\n",
       "      <td>59</td>\n",
       "      <td>6.2</td>\n",
       "      <td>R</td>\n",
       "      <td>Oct</td>\n",
       "      <td>1980</td>\n",
       "      <td>105-110</td>\n",
       "    </tr>\n",
       "    <tr>\n",
       "      <th>4</th>\n",
       "      <td>Coal Miner's Daughter</td>\n",
       "      <td>67182787</td>\n",
       "      <td>124</td>\n",
       "      <td>87</td>\n",
       "      <td>7.5</td>\n",
       "      <td>PG</td>\n",
       "      <td>Mar</td>\n",
       "      <td>1980</td>\n",
       "      <td>120-125</td>\n",
       "    </tr>\n",
       "    <tr>\n",
       "      <th>...</th>\n",
       "      <td>...</td>\n",
       "      <td>...</td>\n",
       "      <td>...</td>\n",
       "      <td>...</td>\n",
       "      <td>...</td>\n",
       "      <td>...</td>\n",
       "      <td>...</td>\n",
       "      <td>...</td>\n",
       "      <td>...</td>\n",
       "    </tr>\n",
       "    <tr>\n",
       "      <th>1667</th>\n",
       "      <td>Let Him Go</td>\n",
       "      <td>9358025</td>\n",
       "      <td>113</td>\n",
       "      <td>63</td>\n",
       "      <td>6.7</td>\n",
       "      <td>R</td>\n",
       "      <td>Nov</td>\n",
       "      <td>2020</td>\n",
       "      <td>110-115</td>\n",
       "    </tr>\n",
       "    <tr>\n",
       "      <th>1668</th>\n",
       "      <td>Freaky</td>\n",
       "      <td>9030855</td>\n",
       "      <td>102</td>\n",
       "      <td>67</td>\n",
       "      <td>6.3</td>\n",
       "      <td>R</td>\n",
       "      <td>Nov</td>\n",
       "      <td>2020</td>\n",
       "      <td>100-105</td>\n",
       "    </tr>\n",
       "    <tr>\n",
       "      <th>1669</th>\n",
       "      <td>Downhill</td>\n",
       "      <td>8287061</td>\n",
       "      <td>86</td>\n",
       "      <td>49</td>\n",
       "      <td>4.9</td>\n",
       "      <td>R</td>\n",
       "      <td>Feb</td>\n",
       "      <td>2020</td>\n",
       "      <td>85-90</td>\n",
       "    </tr>\n",
       "    <tr>\n",
       "      <th>1670</th>\n",
       "      <td>The Hunt</td>\n",
       "      <td>5812500</td>\n",
       "      <td>90</td>\n",
       "      <td>50</td>\n",
       "      <td>6.5</td>\n",
       "      <td>R</td>\n",
       "      <td>Mar</td>\n",
       "      <td>2020</td>\n",
       "      <td>90-95</td>\n",
       "    </tr>\n",
       "    <tr>\n",
       "      <th>1671</th>\n",
       "      <td>The Rhythm Section</td>\n",
       "      <td>5437971</td>\n",
       "      <td>109</td>\n",
       "      <td>45</td>\n",
       "      <td>5.3</td>\n",
       "      <td>R</td>\n",
       "      <td>Jan</td>\n",
       "      <td>2020</td>\n",
       "      <td>105-110</td>\n",
       "    </tr>\n",
       "  </tbody>\n",
       "</table>\n",
       "<p>1672 rows × 9 columns</p>\n",
       "</div>"
      ],
      "text/plain": [
       "                                               Title  Box Office  Runtime  \\\n",
       "0     Star Wars: Episode V - The Empire Strikes Back   292753960      124   \n",
       "1                                         Stir Crazy   101300000      111   \n",
       "2                              Any Which Way You Can    70687344      116   \n",
       "3                                   Private Benjamin    69847348      109   \n",
       "4                              Coal Miner's Daughter    67182787      124   \n",
       "...                                              ...         ...      ...   \n",
       "1667                                      Let Him Go     9358025      113   \n",
       "1668                                          Freaky     9030855      102   \n",
       "1669                                        Downhill     8287061       86   \n",
       "1670                                        The Hunt     5812500       90   \n",
       "1671                              The Rhythm Section     5437971      109   \n",
       "\n",
       "      Metascore  IMDB Score MPAA Rating Month Released Year Released  \\\n",
       "0            82         8.7          PG            Jun          1980   \n",
       "1            56         6.8           R            Dec          1980   \n",
       "2            51         6.1          PG            Dec          1980   \n",
       "3            59         6.2           R            Oct          1980   \n",
       "4            87         7.5          PG            Mar          1980   \n",
       "...         ...         ...         ...            ...           ...   \n",
       "1667         63         6.7           R            Nov          2020   \n",
       "1668         67         6.3           R            Nov          2020   \n",
       "1669         49         4.9           R            Feb          2020   \n",
       "1670         50         6.5           R            Mar          2020   \n",
       "1671         45         5.3           R            Jan          2020   \n",
       "\n",
       "     Runtime Group  \n",
       "0          120-125  \n",
       "1          110-115  \n",
       "2          115-120  \n",
       "3          105-110  \n",
       "4          120-125  \n",
       "...            ...  \n",
       "1667       110-115  \n",
       "1668       100-105  \n",
       "1669         85-90  \n",
       "1670         90-95  \n",
       "1671       105-110  \n",
       "\n",
       "[1672 rows x 9 columns]"
      ]
     },
     "execution_count": 9,
     "metadata": {},
     "output_type": "execute_result"
    }
   ],
   "source": [
    "bins = [0, 79.9, 84.9, 89.9, 94.9, 99.9, 104.9, 109.9, 114.9, 119.9, 124.9, 129.9, 134.9, 139.9, 144.9, \n",
    "       149.9, 154.9, 205]\n",
    "\n",
    "group_names = ['0-80', '80-85', '85-90', '90-95', '95-100', '100-105', '105-110', '110-115', '115-120', \n",
    "              '120-125', '125-130', '130-135', '135-140', '140-145', '145-150', '150-155', '>155']\n",
    "\n",
    "meta_df['Runtime Group'] = pd.cut(meta_df['Runtime'], bins, labels=group_names, include_lowest= True)\n",
    "meta_df"
   ]
  },
  {
   "cell_type": "code",
   "execution_count": 10,
   "id": "aabe7ef5",
   "metadata": {},
   "outputs": [
    {
     "name": "stdout",
     "output_type": "stream",
     "text": [
      "Runtime Group\n",
      "0-80       6.619411e+07\n",
      "80-85      9.121923e+07\n",
      "85-90      9.424827e+07\n",
      "90-95      9.208596e+07\n",
      "95-100     8.594413e+07\n",
      "100-105    9.107520e+07\n",
      "105-110    9.157780e+07\n",
      "110-115    8.590032e+07\n",
      "115-120    1.134677e+08\n",
      "120-125    1.249952e+08\n",
      "125-130    1.280214e+08\n",
      "130-135    1.299920e+08\n",
      "135-140    1.575476e+08\n",
      "140-145    1.990024e+08\n",
      "145-150    2.119422e+08\n",
      "150-155    2.111155e+08\n",
      ">155       2.168230e+08\n",
      "Name: Box Office, dtype: float64\n",
      "Runtime Group\n",
      "0-80         9\n",
      "80-85       38\n",
      "85-90       91\n",
      "90-95      161\n",
      "95-100     193\n",
      "100-105    202\n",
      "105-110    200\n",
      "110-115    149\n",
      "115-120    158\n",
      "120-125    109\n",
      "125-130     94\n",
      "130-135     77\n",
      "135-140     57\n",
      "140-145     48\n",
      "145-150     23\n",
      "150-155     23\n",
      ">155        40\n",
      "Name: Box Office, dtype: int64\n",
      "216823028.525\n",
      "66194108.44444445\n"
     ]
    }
   ],
   "source": [
    "group_df = meta_df.groupby(['Runtime Group'])\n",
    "print(group_df['Box Office'].mean())\n",
    "print(group_df['Box Office'].count())\n",
    "print(group_df['Box Office'].mean().max())\n",
    "print(group_df['Box Office'].mean().min())"
   ]
  },
  {
   "cell_type": "code",
   "execution_count": 11,
   "id": "52ac7d26",
   "metadata": {
    "scrolled": true
   },
   "outputs": [
    {
     "name": "stderr",
     "output_type": "stream",
     "text": [
      "/Users/novakradovic/opt/anaconda3/lib/python3.8/site-packages/matplotlib/axes/_base.py:405: FutureWarning: Support for multi-dimensional indexing (e.g. `obj[:, None]`) is deprecated and will be removed in a future version.  Convert to a numpy array before indexing instead.\n",
      "  x = x[:, np.newaxis]\n"
     ]
    },
    {
     "data": {
      "image/png": "[encoded data removed]",
      "text/plain": [
       "<Figure size 432x288 with 1 Axes>"
      ]
     },
     "metadata": {
      "needs_background": "light"
     },
     "output_type": "display_data"
    }
   ],
   "source": [
    "plt.plot(group_df['Box Office'].mean())\n",
    "plt.xticks(np.arange(0, 17, step=1),rotation = 90)\n",
    "plt.xlabel('Movie Runtime')\n",
    "plt.ylabel('Box Office Revenue (10s of million $)')\n",
    "plt.title('Box Office Revenue  vs Movie Runtime')\n",
    "\n",
    "plt.show()"
   ]
  },
  {
   "cell_type": "code",
   "execution_count": 12,
   "id": "a88a57dc",
   "metadata": {},
   "outputs": [],
   "source": [
    "bins_meta = [0,29.9,39.9, 49.9, 59.9, 69.9, 79.9, 89.9, 100]\n",
    "group_meta = ['0-30', '30-40', '40-50', '50-60', '60-70', '70-80', '80-90', '90-100']\n",
    "\n",
    "meta_df['Metascore Group'] = pd.cut(meta_df['Metascore'], bins_meta, labels=group_meta, include_lowest= True)\n"
   ]
  },
  {
   "cell_type": "code",
   "execution_count": 13,
   "id": "3cb9d477",
   "metadata": {
    "scrolled": true
   },
   "outputs": [
    {
     "name": "stdout",
     "output_type": "stream",
     "text": [
      "Metascore Group\n",
      "0-30      6.415878e+07\n",
      "30-40     7.740368e+07\n",
      "40-50     9.123149e+07\n",
      "50-60     1.100742e+08\n",
      "60-70     1.106208e+08\n",
      "70-80     1.380575e+08\n",
      "80-90     1.834234e+08\n",
      "90-100    2.235829e+08\n",
      "Name: Box Office, dtype: float64\n",
      "Metascore Group\n",
      "0-30       72\n",
      "30-40     180\n",
      "40-50     336\n",
      "50-60     369\n",
      "60-70     386\n",
      "70-80     212\n",
      "80-90      96\n",
      "90-100     21\n",
      "Name: Box Office, dtype: int64\n",
      "223582949.52380952\n",
      "64158781.38888889\n"
     ]
    }
   ],
   "source": [
    "group_m_df = meta_df.groupby(['Metascore Group'])\n",
    "print(group_m_df['Box Office'].mean())\n",
    "print(group_m_df['Box Office'].count())\n",
    "print(group_m_df['Box Office'].mean().max())\n",
    "print(group_m_df['Box Office'].mean().min())"
   ]
  },
  {
   "cell_type": "code",
   "execution_count": 14,
   "id": "700c3597",
   "metadata": {
    "scrolled": true
   },
   "outputs": [
    {
     "name": "stderr",
     "output_type": "stream",
     "text": [
      "/Users/novakradovic/opt/anaconda3/lib/python3.8/site-packages/matplotlib/axes/_base.py:405: FutureWarning: Support for multi-dimensional indexing (e.g. `obj[:, None]`) is deprecated and will be removed in a future version.  Convert to a numpy array before indexing instead.\n",
      "  x = x[:, np.newaxis]\n"
     ]
    },
    {
     "data": {
      "image/png": "[encoded data removed]",
      "text/plain": [
       "<Figure size 432x288 with 1 Axes>"
      ]
     },
     "metadata": {
      "needs_background": "light"
     },
     "output_type": "display_data"
    }
   ],
   "source": [
    "plt.plot(group_m_df['Box Office'].mean())\n",
    "plt.xticks(np.arange(0, 9, step=1),rotation = 90)\n",
    "plt.xlabel('Metascore')\n",
    "plt.ylabel('Box Office Revenue (10s of million $)')\n",
    "plt.title('Box Office Revenue  vs Metascore')\n",
    "plt.show()\n"
   ]
  },
  {
   "cell_type": "code",
   "execution_count": 15,
   "id": "0d0ee2f7",
   "metadata": {},
   "outputs": [],
   "source": [
    "bins_i = [0, 1, 2, 3, 4, 5, 6, 7, 8, 9, 10 ]\n",
    "group_i = ['0-1','1-2','2-3','3-4', '4-5','5-6', '6-7', '7-8', '8-9', '9-10']\n",
    "\n",
    "meta_df['IMDB Group'] = pd.cut(meta_df['IMDB Score'], bins_i, labels=group_i, include_lowest= True)\n"
   ]
  },
  {
   "cell_type": "code",
   "execution_count": 16,
   "id": "e962b161",
   "metadata": {},
   "outputs": [
    {
     "name": "stdout",
     "output_type": "stream",
     "text": [
      "IMDB Group\n",
      "0-1              NaN\n",
      "1-2     7.301391e+07\n",
      "2-3     6.528178e+07\n",
      "3-4     6.775780e+07\n",
      "4-5     7.932948e+07\n",
      "5-6     7.561536e+07\n",
      "6-7     1.019690e+08\n",
      "7-8     1.440455e+08\n",
      "8-9     2.132707e+08\n",
      "9-10             NaN\n",
      "Name: Box Office, dtype: float64\n",
      "IMDB Group\n",
      "0-1       0\n",
      "1-2       1\n",
      "2-3       1\n",
      "3-4      11\n",
      "4-5      65\n",
      "5-6     335\n",
      "6-7     789\n",
      "7-8     404\n",
      "8-9      66\n",
      "9-10      0\n",
      "Name: Box Office, dtype: int64\n",
      "213270703.27272728\n",
      "65281781.0\n"
     ]
    }
   ],
   "source": [
    "group_i_df = meta_df.groupby(['IMDB Group'])\n",
    "print(group_i_df['Box Office'].mean())\n",
    "print(group_i_df['Box Office'].count())\n",
    "print(group_i_df['Box Office'].mean().max())\n",
    "print(group_i_df['Box Office'].mean().min())"
   ]
  },
  {
   "cell_type": "code",
   "execution_count": 17,
   "id": "248ee500",
   "metadata": {},
   "outputs": [
    {
     "name": "stderr",
     "output_type": "stream",
     "text": [
      "/Users/novakradovic/opt/anaconda3/lib/python3.8/site-packages/matplotlib/axes/_base.py:405: FutureWarning: Support for multi-dimensional indexing (e.g. `obj[:, None]`) is deprecated and will be removed in a future version.  Convert to a numpy array before indexing instead.\n",
      "  x = x[:, np.newaxis]\n"
     ]
    },
    {
     "data": {
      "image/png": "[encoded data removed]",
      "text/plain": [
       "<Figure size 432x288 with 1 Axes>"
      ]
     },
     "metadata": {
      "needs_background": "light"
     },
     "output_type": "display_data"
    }
   ],
   "source": [
    "plt.plot(group_i_df['Box Office'].mean())\n",
    "plt.xticks(np.arange(0, 9, step=1),rotation = 90)\n",
    "plt.xlabel('IMDB Score')\n",
    "plt.ylabel('Box Office Revenue (10s of million $)')\n",
    "plt.title('Box Office Revenue  vs IMDB Score')\n",
    "plt.show()\n"
   ]
  },
  {
   "cell_type": "code",
   "execution_count": 18,
   "id": "0c564511",
   "metadata": {},
   "outputs": [
    {
     "data": {
      "image/png": "[encoded data removed]",
      "text/plain": [
       "<Figure size 432x288 with 1 Axes>"
      ]
     },
     "metadata": {
      "needs_background": "light"
     },
     "output_type": "display_data"
    },
    {
     "name": "stdout",
     "output_type": "stream",
     "text": [
      "The P-Value is: 1.339693196339458e-41\n",
      "The R-Value is: 0.32184147849556755\n"
     ]
    }
   ],
   "source": [
    "x_run = meta_df['Runtime']\n",
    "y_run = meta_df['Box Office']\n",
    "plt.scatter(x_run, y_run)\n",
    "(slope, intercept, rvalue, pvalue, stderr) = linregress(x_run, y_run)\n",
    "regress_values = x_run * slope + intercept\n",
    "plt.plot(x_run,regress_values,\"r-\")\n",
    "plt.title('Runtime vs Boxoffice Revenue')\n",
    "plt.xlabel('Runtime(min)')\n",
    "plt.ylabel('Boxoffice Revenue (100s millions $)')\n",
    "plt.show()\n",
    "print(f'The P-Value is: {pvalue}')\n",
    "print(f'The R-Value is: {rvalue}')\n",
    "\n"
   ]
  },
  {
   "cell_type": "code",
   "execution_count": 19,
   "id": "3c694096",
   "metadata": {},
   "outputs": [
    {
     "data": {
      "image/png": "[encoded data removed]",
      "text/plain": [
       "<Figure size 432x288 with 1 Axes>"
      ]
     },
     "metadata": {
      "needs_background": "light"
     },
     "output_type": "display_data"
    },
    {
     "name": "stdout",
     "output_type": "stream",
     "text": [
      "The P-Value is: 1.2604924853816772e-65\n",
      "The R-Value is: 0.4010366068137426\n"
     ]
    }
   ],
   "source": [
    "x_run = meta_df['Runtime']\n",
    "y_run = meta_df['IMDB Score']\n",
    "plt.scatter(x_run, y_run)\n",
    "(slope, intercept, rvalue, pvalue, stderr) = linregress(x_run, y_run)\n",
    "regress_values = x_run * slope + intercept\n",
    "plt.plot(x_run,regress_values,\"r-\")\n",
    "plt.title('Runtime vs IMDB Score')\n",
    "plt.xlabel('Runtime(min)')\n",
    "plt.ylabel('IMDB Score')\n",
    "plt.show()\n",
    "print(f'The P-Value is: {pvalue}')\n",
    "print(f'The R-Value is: {rvalue}')\n"
   ]
  },
  {
   "cell_type": "code",
   "execution_count": 20,
   "id": "fb01717b",
   "metadata": {},
   "outputs": [
    {
     "data": {
      "image/png": "[encoded data removed]",
      "text/plain": [
       "<Figure size 432x288 with 1 Axes>"
      ]
     },
     "metadata": {
      "needs_background": "light"
     },
     "output_type": "display_data"
    },
    {
     "name": "stdout",
     "output_type": "stream",
     "text": [
      "The P-Value is: 1.2574271936292692e-31\n",
      "The R-Value is: 0.2806024314432422\n"
     ]
    }
   ],
   "source": [
    "x_run = meta_df['Runtime']\n",
    "y_run = meta_df['Metascore']\n",
    "plt.scatter(x_run, y_run)\n",
    "(slope, intercept, rvalue, pvalue, stderr) = linregress(x_run, y_run)\n",
    "regress_values = x_run * slope + intercept\n",
    "plt.plot(x_run,regress_values,\"r-\")\n",
    "plt.title('Runtime vs Metascore')\n",
    "plt.xlabel('Runtime(min)')\n",
    "plt.ylabel('Metascore')\n",
    "plt.show()\n",
    "print(f'The P-Value is: {pvalue}')\n",
    "print(f'The R-Value is: {rvalue}')\n"
   ]
  },
  {
   "cell_type": "code",
   "execution_count": 21,
   "id": "0d011e52",
   "metadata": {},
   "outputs": [
    {
     "data": {
      "image/png": "[encoded data removed]",
      "text/plain": [
       "<Figure size 432x288 with 1 Axes>"
      ]
     },
     "metadata": {
      "needs_background": "light"
     },
     "output_type": "display_data"
    },
    {
     "name": "stdout",
     "output_type": "stream",
     "text": [
      "The P-Value is: 1.9422446580595905e-34\n",
      "The R-Value is: 0.29292560919083566\n"
     ]
    }
   ],
   "source": [
    "x = meta_df['Metascore']\n",
    "y_1 = meta_df['Box Office']\n",
    "plt.scatter(x, y_1)\n",
    "(slope, intercept, rvalue, pvalue, stderr) = linregress(x, y_1)\n",
    "regress_values = x * slope + intercept\n",
    "plt.plot(x,regress_values,\"r-\")\n",
    "plt.title('Metascore vs Boxoffice Revenue')\n",
    "plt.xlabel('Metascore')\n",
    "plt.ylabel('Box Office Revenue (100s millions $)')\n",
    "plt.show()\n",
    "print(f'The P-Value is: {pvalue}')\n",
    "print(f'The R-Value is: {rvalue}')"
   ]
  },
  {
   "cell_type": "code",
   "execution_count": 22,
   "id": "4f32593a",
   "metadata": {},
   "outputs": [
    {
     "data": {
      "image/png": "[encoded data removed]",
      "text/plain": [
       "<Figure size 432x288 with 1 Axes>"
      ]
     },
     "metadata": {
      "needs_background": "light"
     },
     "output_type": "display_data"
    },
    {
     "name": "stdout",
     "output_type": "stream",
     "text": [
      "The P-Value is: 1.4775223012146306e-41\n",
      "The R-Value is: 0.3216789370703879\n"
     ]
    }
   ],
   "source": [
    "x = meta_df['IMDB Score']\n",
    "y_1 = meta_df['Box Office']\n",
    "plt.scatter(x, y_1)\n",
    "(slope, intercept, rvalue, pvalue, stderr) = linregress(x, y_1)\n",
    "regress_values = x * slope + intercept\n",
    "plt.plot(x,regress_values,\"r-\")\n",
    "plt.title('IMDB Score vs Boxoffice Revenue')\n",
    "plt.xlabel('IMDB Score')\n",
    "plt.ylabel('Box Office Revenue (100s millions $)')\n",
    "plt.show()\n",
    "print(f'The P-Value is: {pvalue}')\n",
    "print(f'The R-Value is: {rvalue}')"
   ]
  },
  {
   "cell_type": "code",
   "execution_count": 23,
   "id": "3a4d06c0",
   "metadata": {},
   "outputs": [
    {
     "data": {
      "image/png": "[encoded data removed]",
      "text/plain": [
       "<Figure size 432x288 with 1 Axes>"
      ]
     },
     "metadata": {
      "needs_background": "light"
     },
     "output_type": "display_data"
    }
   ],
   "source": [
    "months = meta_df.groupby(['Month Released']).sum().reset_index(inplace=False)\n",
    "months = months.reindex([4,3,7,0,8,6,5,1,11,10,9,2])\n",
    "plt.bar(months['Month Released'], months['Box Office'])\n",
    "plt.title('Total Revenue per month')\n",
    "plt.xlabel('Month of Release')\n",
    "plt.ylabel('Total Boxoffice Revenue (100s million $)')\n",
    "plt.show()\n"
   ]
  },
  {
   "cell_type": "code",
   "execution_count": 24,
   "id": "84d221f5",
   "metadata": {},
   "outputs": [
    {
     "data": {
      "image/png": "[encoded data removed]",
      "text/plain": [
       "<Figure size 432x288 with 1 Axes>"
      ]
     },
     "metadata": {
      "needs_background": "light"
     },
     "output_type": "display_data"
    }
   ],
   "source": [
    "months = meta_df.groupby(['Month Released']).mean().reset_index(inplace=False)\n",
    "months = months.reindex([4,3,7,0,8,6,5,1,11,10,9,2])\n",
    "plt.bar(months['Month Released'], months['Box Office'])\n",
    "plt.title('Average Revenue per month')\n",
    "plt.xlabel('Month of Release')\n",
    "plt.ylabel('Average Boxoffice Revenue (10s millions $)')\n",
    "plt.show()\n"
   ]
  },
  {
   "cell_type": "code",
   "execution_count": 25,
   "id": "a248c2da",
   "metadata": {},
   "outputs": [
    {
     "data": {
      "text/html": [
       "<div>\n",
       "<style scoped>\n",
       "    .dataframe tbody tr th:only-of-type {\n",
       "        vertical-align: middle;\n",
       "    }\n",
       "\n",
       "    .dataframe tbody tr th {\n",
       "        vertical-align: top;\n",
       "    }\n",
       "\n",
       "    .dataframe thead th {\n",
       "        text-align: right;\n",
       "    }\n",
       "</style>\n",
       "<table border=\"1\" class=\"dataframe\">\n",
       "  <thead>\n",
       "    <tr style=\"text-align: right;\">\n",
       "      <th></th>\n",
       "      <th>Month Released</th>\n",
       "      <th>Title</th>\n",
       "      <th>Box Office</th>\n",
       "      <th>Runtime</th>\n",
       "      <th>Metascore</th>\n",
       "      <th>IMDB Score</th>\n",
       "      <th>MPAA Rating</th>\n",
       "      <th>Year Released</th>\n",
       "      <th>Runtime Group</th>\n",
       "      <th>Metascore Group</th>\n",
       "      <th>IMDB Group</th>\n",
       "    </tr>\n",
       "  </thead>\n",
       "  <tbody>\n",
       "    <tr>\n",
       "      <th>0</th>\n",
       "      <td>Apr</td>\n",
       "      <td>88</td>\n",
       "      <td>88</td>\n",
       "      <td>88</td>\n",
       "      <td>88</td>\n",
       "      <td>88</td>\n",
       "      <td>88</td>\n",
       "      <td>88</td>\n",
       "      <td>88</td>\n",
       "      <td>88</td>\n",
       "      <td>88</td>\n",
       "    </tr>\n",
       "    <tr>\n",
       "      <th>1</th>\n",
       "      <td>Aug</td>\n",
       "      <td>145</td>\n",
       "      <td>145</td>\n",
       "      <td>145</td>\n",
       "      <td>145</td>\n",
       "      <td>145</td>\n",
       "      <td>145</td>\n",
       "      <td>145</td>\n",
       "      <td>145</td>\n",
       "      <td>145</td>\n",
       "      <td>145</td>\n",
       "    </tr>\n",
       "    <tr>\n",
       "      <th>2</th>\n",
       "      <td>Dec</td>\n",
       "      <td>126</td>\n",
       "      <td>126</td>\n",
       "      <td>126</td>\n",
       "      <td>126</td>\n",
       "      <td>126</td>\n",
       "      <td>126</td>\n",
       "      <td>126</td>\n",
       "      <td>126</td>\n",
       "      <td>126</td>\n",
       "      <td>126</td>\n",
       "    </tr>\n",
       "    <tr>\n",
       "      <th>3</th>\n",
       "      <td>Feb</td>\n",
       "      <td>109</td>\n",
       "      <td>109</td>\n",
       "      <td>109</td>\n",
       "      <td>109</td>\n",
       "      <td>109</td>\n",
       "      <td>109</td>\n",
       "      <td>109</td>\n",
       "      <td>109</td>\n",
       "      <td>109</td>\n",
       "      <td>109</td>\n",
       "    </tr>\n",
       "    <tr>\n",
       "      <th>4</th>\n",
       "      <td>Jan</td>\n",
       "      <td>51</td>\n",
       "      <td>51</td>\n",
       "      <td>51</td>\n",
       "      <td>51</td>\n",
       "      <td>51</td>\n",
       "      <td>51</td>\n",
       "      <td>51</td>\n",
       "      <td>51</td>\n",
       "      <td>51</td>\n",
       "      <td>51</td>\n",
       "    </tr>\n",
       "    <tr>\n",
       "      <th>5</th>\n",
       "      <td>Jul</td>\n",
       "      <td>227</td>\n",
       "      <td>227</td>\n",
       "      <td>227</td>\n",
       "      <td>227</td>\n",
       "      <td>227</td>\n",
       "      <td>227</td>\n",
       "      <td>227</td>\n",
       "      <td>227</td>\n",
       "      <td>227</td>\n",
       "      <td>227</td>\n",
       "    </tr>\n",
       "    <tr>\n",
       "      <th>6</th>\n",
       "      <td>Jun</td>\n",
       "      <td>237</td>\n",
       "      <td>237</td>\n",
       "      <td>237</td>\n",
       "      <td>237</td>\n",
       "      <td>237</td>\n",
       "      <td>237</td>\n",
       "      <td>237</td>\n",
       "      <td>237</td>\n",
       "      <td>237</td>\n",
       "      <td>237</td>\n",
       "    </tr>\n",
       "    <tr>\n",
       "      <th>7</th>\n",
       "      <td>Mar</td>\n",
       "      <td>142</td>\n",
       "      <td>142</td>\n",
       "      <td>142</td>\n",
       "      <td>142</td>\n",
       "      <td>142</td>\n",
       "      <td>142</td>\n",
       "      <td>142</td>\n",
       "      <td>142</td>\n",
       "      <td>142</td>\n",
       "      <td>142</td>\n",
       "    </tr>\n",
       "    <tr>\n",
       "      <th>8</th>\n",
       "      <td>May</td>\n",
       "      <td>167</td>\n",
       "      <td>167</td>\n",
       "      <td>167</td>\n",
       "      <td>167</td>\n",
       "      <td>167</td>\n",
       "      <td>167</td>\n",
       "      <td>167</td>\n",
       "      <td>167</td>\n",
       "      <td>167</td>\n",
       "      <td>167</td>\n",
       "    </tr>\n",
       "    <tr>\n",
       "      <th>9</th>\n",
       "      <td>Nov</td>\n",
       "      <td>185</td>\n",
       "      <td>185</td>\n",
       "      <td>185</td>\n",
       "      <td>185</td>\n",
       "      <td>185</td>\n",
       "      <td>185</td>\n",
       "      <td>185</td>\n",
       "      <td>185</td>\n",
       "      <td>185</td>\n",
       "      <td>185</td>\n",
       "    </tr>\n",
       "    <tr>\n",
       "      <th>10</th>\n",
       "      <td>Oct</td>\n",
       "      <td>111</td>\n",
       "      <td>111</td>\n",
       "      <td>111</td>\n",
       "      <td>111</td>\n",
       "      <td>111</td>\n",
       "      <td>111</td>\n",
       "      <td>111</td>\n",
       "      <td>111</td>\n",
       "      <td>111</td>\n",
       "      <td>111</td>\n",
       "    </tr>\n",
       "    <tr>\n",
       "      <th>11</th>\n",
       "      <td>Sep</td>\n",
       "      <td>84</td>\n",
       "      <td>84</td>\n",
       "      <td>84</td>\n",
       "      <td>84</td>\n",
       "      <td>84</td>\n",
       "      <td>84</td>\n",
       "      <td>84</td>\n",
       "      <td>84</td>\n",
       "      <td>84</td>\n",
       "      <td>84</td>\n",
       "    </tr>\n",
       "  </tbody>\n",
       "</table>\n",
       "</div>"
      ],
      "text/plain": [
       "   Month Released  Title  Box Office  Runtime  Metascore  IMDB Score  \\\n",
       "0             Apr     88          88       88         88          88   \n",
       "1             Aug    145         145      145        145         145   \n",
       "2             Dec    126         126      126        126         126   \n",
       "3             Feb    109         109      109        109         109   \n",
       "4             Jan     51          51       51         51          51   \n",
       "5             Jul    227         227      227        227         227   \n",
       "6             Jun    237         237      237        237         237   \n",
       "7             Mar    142         142      142        142         142   \n",
       "8             May    167         167      167        167         167   \n",
       "9             Nov    185         185      185        185         185   \n",
       "10            Oct    111         111      111        111         111   \n",
       "11            Sep     84          84       84         84          84   \n",
       "\n",
       "    MPAA Rating  Year Released  Runtime Group  Metascore Group  IMDB Group  \n",
       "0            88             88             88               88          88  \n",
       "1           145            145            145              145         145  \n",
       "2           126            126            126              126         126  \n",
       "3           109            109            109              109         109  \n",
       "4            51             51             51               51          51  \n",
       "5           227            227            227              227         227  \n",
       "6           237            237            237              237         237  \n",
       "7           142            142            142              142         142  \n",
       "8           167            167            167              167         167  \n",
       "9           185            185            185              185         185  \n",
       "10          111            111            111              111         111  \n",
       "11           84             84             84               84          84  "
      ]
     },
     "execution_count": 25,
     "metadata": {},
     "output_type": "execute_result"
    }
   ],
   "source": [
    "months = meta_df.groupby(['Month Released']).count().reset_index(inplace=False)\n",
    "months"
   ]
  },
  {
   "cell_type": "code",
   "execution_count": 27,
   "id": "6e929614",
   "metadata": {},
   "outputs": [
    {
     "data": {
      "image/png": "[encoded data removed]",
      "text/plain": [
       "<Figure size 432x288 with 1 Axes>"
      ]
     },
     "metadata": {
      "needs_background": "light"
     },
     "output_type": "display_data"
    }
   ],
   "source": [
    "months = meta_df.groupby(['Month Released']).count().reset_index(inplace=False)\n",
    "months = months.reindex([4,3,7,0,8,6,5,1,11,10,9,2])\n",
    "plt.bar(months['Month Released'], months['Box Office'])\n",
    "plt.title('Number of Movies Released per month')\n",
    "plt.xlabel('Month of Release')\n",
    "plt.ylabel('Number of Movies Released')\n",
    "plt.show()\n"
   ]
  },
  {
   "cell_type": "code",
   "execution_count": null,
   "id": "0b57b224",
   "metadata": {},
   "outputs": [],
   "source": []
  }
 ],
 "metadata": {
  "kernelspec": {
   "display_name": "Python 3",
   "language": "python",
   "name": "python3"
  },
  "language_info": {
   "codemirror_mode": {
    "name": "ipython",
    "version": 3
   },
   "file_extension": ".py",
   "mimetype": "text/x-python",
   "name": "python",
   "nbconvert_exporter": "python",
   "pygments_lexer": "ipython3",
   "version": "3.8.8"
  }
 },
 "nbformat": 4,
 "nbformat_minor": 5
}
